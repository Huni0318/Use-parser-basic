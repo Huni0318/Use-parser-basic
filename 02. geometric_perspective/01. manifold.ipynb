{
 "cells": [
  {
   "cell_type": "code",
   "execution_count": 1,
   "metadata": {},
   "outputs": [],
   "source": [
    "import numpy as np\n",
    "import matplotlib.pyplot as plt"
   ]
  },
  {
   "cell_type": "code",
   "execution_count": 2,
   "metadata": {},
   "outputs": [],
   "source": [
    "import torch\n",
    "import torch.nn as nn\n",
    "import torch.optim as optim"
   ]
  },
  {
   "cell_type": "code",
   "execution_count": 3,
   "metadata": {},
   "outputs": [],
   "source": [
    "from utils import load_mnist\n",
    "from trainer import Trainer"
   ]
  },
  {
   "cell_type": "code",
   "execution_count": 4,
   "metadata": {},
   "outputs": [],
   "source": [
    "def show_image(x):\n",
    "    if x.dim() == 1:\n",
    "        x = x.view(int(x.size(0)**0.5), -1)\n",
    "        \n",
    "    plt.imshow(x, cmap='gray')\n",
    "    plt.show()"
   ]
  },
  {
   "cell_type": "code",
   "execution_count": 6,
   "metadata": {},
   "outputs": [
    {
     "name": "stdout",
     "output_type": "stream",
     "text": [
      "Namespace(batch_size=256, btl_size=2, n_epochs=50, train_ratio=0.8, verbose=1)\n"
     ]
    }
   ],
   "source": [
    "from argparse import Namespace\n",
    "\n",
    "config = {\n",
    "    'train_ratio': .8,\n",
    "    'batch_size': 256,\n",
    "    'n_epochs': 50,\n",
    "    'verbose': 1,\n",
    "    'btl_size': 2\n",
    "}\n",
    "\n",
    "config = Namespace(**config)\n",
    "\n",
    "print(config)"
   ]
  },
  {
   "cell_type": "code",
   "execution_count": 7,
   "metadata": {},
   "outputs": [
    {
     "name": "stdout",
     "output_type": "stream",
     "text": [
      "Train: torch.Size([48000, 784]) torch.Size([48000])\n",
      "Valid: torch.Size([12000, 784]) torch.Size([12000])\n",
      "Test: torch.Size([10000, 784]) torch.Size([10000])\n"
     ]
    },
    {
     "name": "stderr",
     "output_type": "stream",
     "text": [
      "/usr/local/lib/python3.6/dist-packages/torchvision/datasets/mnist.py:498: UserWarning: The given NumPy array is not writeable, and PyTorch does not support non-writeable tensors. This means you can write to the underlying (supposedly non-writeable) NumPy array using the tensor. You may want to copy the array to protect its data or make it writeable before converting it to a tensor. This type of warning will be suppressed for the rest of this program. (Triggered internally at  /pytorch/torch/csrc/utils/tensor_numpy.cpp:180.)\n",
      "  return torch.from_numpy(parsed.astype(m[2], copy=False)).view(*s)\n"
     ]
    }
   ],
   "source": [
    "train_x, train_y = load_mnist(flatten=True)\n",
    "test_x, test_y = load_mnist(is_train=False, flatten=True)\n",
    "\n",
    "train_cnt = int(train_x.size(0) * config.train_ratio)\n",
    "valid_cnt = train_x.size(0) - train_cnt\n",
    "\n",
    "# Shuffle dataset to split into train/valid set.\n",
    "indices = torch.randperm(train_x.size(0))\n",
    "train_x, valid_x = torch.index_select(\n",
    "    train_x,\n",
    "    dim=0,\n",
    "    index=indices\n",
    ").split([train_cnt, valid_cnt], dim=0)\n",
    "train_y, valid_y = torch.index_select(\n",
    "    train_y,\n",
    "    dim=0,\n",
    "    index=indices\n",
    ").split([train_cnt, valid_cnt], dim=0)\n",
    "\n",
    "print(\"Train:\", train_x.shape, train_y.shape)\n",
    "print(\"Valid:\", valid_x.shape, valid_y.shape)\n",
    "print(\"Test:\", test_x.shape, test_y.shape)"
   ]
  },
  {
   "cell_type": "code",
   "execution_count": 8,
   "metadata": {},
   "outputs": [],
   "source": [
    "from model import Autoencoder"
   ]
  },
  {
   "cell_type": "code",
   "execution_count": 9,
   "metadata": {},
   "outputs": [],
   "source": [
    "model = Autoencoder(btl_size=config.btl_size)\n",
    "optimizer = optim.Adam(model.parameters())\n",
    "crit = nn.MSELoss()\n",
    "\n",
    "trainer = Trainer(model, optimizer, crit)"
   ]
  },
  {
   "cell_type": "code",
   "execution_count": 10,
   "metadata": {},
   "outputs": [
    {
     "name": "stdout",
     "output_type": "stream",
     "text": [
      "Epoch(1/50): train_loss=7.4151e-02  valid_loss=5.2678e-02  lowest_loss=5.2678e-02\n",
      "Epoch(2/50): train_loss=5.0142e-02  valid_loss=4.7328e-02  lowest_loss=4.7328e-02\n",
      "Epoch(3/50): train_loss=4.7081e-02  valid_loss=4.5350e-02  lowest_loss=4.5350e-02\n",
      "Epoch(4/50): train_loss=4.5120e-02  valid_loss=4.3737e-02  lowest_loss=4.3737e-02\n",
      "Epoch(5/50): train_loss=4.4037e-02  valid_loss=4.2299e-02  lowest_loss=4.2299e-02\n",
      "Epoch(6/50): train_loss=4.3202e-02  valid_loss=4.2764e-02  lowest_loss=4.2299e-02\n",
      "Epoch(7/50): train_loss=4.2347e-02  valid_loss=4.1177e-02  lowest_loss=4.1177e-02\n",
      "Epoch(8/50): train_loss=4.2281e-02  valid_loss=4.0985e-02  lowest_loss=4.0985e-02\n",
      "Epoch(9/50): train_loss=4.1959e-02  valid_loss=4.0603e-02  lowest_loss=4.0603e-02\n",
      "Epoch(10/50): train_loss=4.1418e-02  valid_loss=4.1001e-02  lowest_loss=4.0603e-02\n",
      "Epoch(11/50): train_loss=4.0794e-02  valid_loss=3.9829e-02  lowest_loss=3.9829e-02\n",
      "Epoch(12/50): train_loss=4.0247e-02  valid_loss=3.8889e-02  lowest_loss=3.8889e-02\n",
      "Epoch(13/50): train_loss=4.0026e-02  valid_loss=3.8481e-02  lowest_loss=3.8481e-02\n",
      "Epoch(14/50): train_loss=3.9611e-02  valid_loss=3.8254e-02  lowest_loss=3.8254e-02\n",
      "Epoch(15/50): train_loss=3.9291e-02  valid_loss=3.8343e-02  lowest_loss=3.8254e-02\n",
      "Epoch(16/50): train_loss=3.9510e-02  valid_loss=3.8184e-02  lowest_loss=3.8184e-02\n",
      "Epoch(17/50): train_loss=3.9266e-02  valid_loss=4.0099e-02  lowest_loss=3.8184e-02\n",
      "Epoch(18/50): train_loss=3.9045e-02  valid_loss=3.8231e-02  lowest_loss=3.8184e-02\n",
      "Epoch(19/50): train_loss=3.8915e-02  valid_loss=3.7674e-02  lowest_loss=3.7674e-02\n",
      "Epoch(20/50): train_loss=3.8665e-02  valid_loss=3.8093e-02  lowest_loss=3.7674e-02\n",
      "Epoch(21/50): train_loss=3.8492e-02  valid_loss=3.7212e-02  lowest_loss=3.7212e-02\n",
      "Epoch(22/50): train_loss=3.8490e-02  valid_loss=3.7719e-02  lowest_loss=3.7212e-02\n",
      "Epoch(23/50): train_loss=3.8412e-02  valid_loss=3.6869e-02  lowest_loss=3.6869e-02\n",
      "Epoch(24/50): train_loss=3.8273e-02  valid_loss=3.6912e-02  lowest_loss=3.6869e-02\n",
      "Epoch(25/50): train_loss=3.7901e-02  valid_loss=3.6393e-02  lowest_loss=3.6393e-02\n",
      "Epoch(26/50): train_loss=3.7708e-02  valid_loss=3.6296e-02  lowest_loss=3.6296e-02\n",
      "Epoch(27/50): train_loss=3.7913e-02  valid_loss=3.6753e-02  lowest_loss=3.6296e-02\n",
      "Epoch(28/50): train_loss=3.8000e-02  valid_loss=3.6174e-02  lowest_loss=3.6174e-02\n",
      "Epoch(29/50): train_loss=3.7950e-02  valid_loss=3.7027e-02  lowest_loss=3.6174e-02\n",
      "Epoch(30/50): train_loss=3.7369e-02  valid_loss=3.6279e-02  lowest_loss=3.6174e-02\n",
      "Epoch(31/50): train_loss=3.7315e-02  valid_loss=3.7130e-02  lowest_loss=3.6174e-02\n",
      "Epoch(32/50): train_loss=3.7405e-02  valid_loss=3.6184e-02  lowest_loss=3.6174e-02\n",
      "Epoch(33/50): train_loss=3.7340e-02  valid_loss=3.6131e-02  lowest_loss=3.6131e-02\n",
      "Epoch(34/50): train_loss=3.7131e-02  valid_loss=3.5955e-02  lowest_loss=3.5955e-02\n",
      "Epoch(35/50): train_loss=3.7151e-02  valid_loss=3.6706e-02  lowest_loss=3.5955e-02\n",
      "Epoch(36/50): train_loss=3.7607e-02  valid_loss=3.6227e-02  lowest_loss=3.5955e-02\n",
      "Epoch(37/50): train_loss=3.7112e-02  valid_loss=3.7011e-02  lowest_loss=3.5955e-02\n",
      "Epoch(38/50): train_loss=3.7176e-02  valid_loss=3.5968e-02  lowest_loss=3.5955e-02\n",
      "Epoch(39/50): train_loss=3.6960e-02  valid_loss=3.5426e-02  lowest_loss=3.5426e-02\n",
      "Epoch(40/50): train_loss=3.6729e-02  valid_loss=3.5667e-02  lowest_loss=3.5426e-02\n",
      "Epoch(41/50): train_loss=3.6588e-02  valid_loss=3.5151e-02  lowest_loss=3.5151e-02\n",
      "Epoch(42/50): train_loss=3.6635e-02  valid_loss=3.5942e-02  lowest_loss=3.5151e-02\n",
      "Epoch(43/50): train_loss=3.6465e-02  valid_loss=3.6002e-02  lowest_loss=3.5151e-02\n",
      "Epoch(44/50): train_loss=3.7086e-02  valid_loss=3.6955e-02  lowest_loss=3.5151e-02\n",
      "Epoch(45/50): train_loss=3.7638e-02  valid_loss=3.7071e-02  lowest_loss=3.5151e-02\n",
      "Epoch(46/50): train_loss=3.7458e-02  valid_loss=3.7782e-02  lowest_loss=3.5151e-02\n",
      "Epoch(47/50): train_loss=3.7751e-02  valid_loss=3.6901e-02  lowest_loss=3.5151e-02\n",
      "Epoch(48/50): train_loss=3.7596e-02  valid_loss=3.7168e-02  lowest_loss=3.5151e-02\n",
      "Epoch(49/50): train_loss=3.7732e-02  valid_loss=3.7473e-02  lowest_loss=3.5151e-02\n",
      "Epoch(50/50): train_loss=3.7974e-02  valid_loss=3.6920e-02  lowest_loss=3.5151e-02\n"
     ]
    }
   ],
   "source": [
    "trainer.train((train_x, train_x), (valid_x, valid_x), config)"
   ]
  },
  {
   "cell_type": "markdown",
   "metadata": {},
   "source": [
    "## Mean value in each space"
   ]
  },
  {
   "cell_type": "code",
   "execution_count": 11,
   "metadata": {},
   "outputs": [
    {
     "data": {
      "image/png": "[encoded data removed]",
      "text/plain": [
       "<Figure size 432x288 with 1 Axes>"
      ]
     },
     "metadata": {
      "needs_background": "light"
     },
     "output_type": "display_data"
    },
    {
     "data": {
      "image/png": "[encoded data removed]",
      "text/plain": [
       "<Figure size 432x288 with 1 Axes>"
      ]
     },
     "metadata": {
      "needs_background": "light"
     },
     "output_type": "display_data"
    },
    {
     "data": {
      "image/png": "[encoded data removed]",
      "text/plain": [
       "<Figure size 432x288 with 1 Axes>"
      ]
     },
     "metadata": {
      "needs_background": "light"
     },
     "output_type": "display_data"
    },
    {
     "data": {
      "image/png": "[encoded data removed]",
      "text/plain": [
       "<Figure size 432x288 with 1 Axes>"
      ]
     },
     "metadata": {
      "needs_background": "light"
     },
     "output_type": "display_data"
    }
   ],
   "source": [
    "with torch.no_grad():\n",
    "    import random\n",
    "\n",
    "    index1 = int(random.random() * test_x.size(0))\n",
    "    index2 = int(random.random() * test_x.size(0))\n",
    "    \n",
    "    z1 = model.encoder(test_x[index1].view(1, -1))\n",
    "    z2 = model.encoder(test_x[index2].view(1, -1))\n",
    "\n",
    "    recon = model.decoder((z1 + z2) / 2).squeeze()\n",
    "\n",
    "    show_image(test_x[index1])\n",
    "    show_image(test_x[index2])\n",
    "    show_image((test_x[index1] + test_x[index2]) / 2)\n",
    "    show_image(recon)"
   ]
  }
 ],
 "metadata": {
  "kernelspec": {
   "display_name": "Python 3",
   "language": "python",
   "name": "python3"
  },
  "language_info": {
   "codemirror_mode": {
    "name": "ipython",
    "version": 3
   },
   "file_extension": ".py",
   "mimetype": "text/x-python",
   "name": "python",
   "nbconvert_exporter": "python",
   "pygments_lexer": "ipython3",
   "version": "3.8.3"
  }
 },
 "nbformat": 4,
 "nbformat_minor": 5
}
